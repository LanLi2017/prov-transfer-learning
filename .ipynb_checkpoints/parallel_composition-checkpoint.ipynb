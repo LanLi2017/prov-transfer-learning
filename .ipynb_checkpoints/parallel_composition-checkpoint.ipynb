{
 "cells": [
  {
   "cell_type": "code",
   "execution_count": 1,
   "id": "b4fea1b7",
   "metadata": {},
   "outputs": [],
   "source": [
    "from graphviz import Digraph"
   ]
  },
  {
   "cell_type": "markdown",
   "id": "d2a2f79c",
   "metadata": {},
   "source": [
    "### Recipe r1,r2 are prepared by Sequential Composition [Union and Find] "
   ]
  },
  {
   "cell_type": "code",
   "execution_count": 13,
   "id": "a750fb40",
   "metadata": {},
   "outputs": [],
   "source": [
    "r1 = {\n",
    "        'd': 'g',\n",
    "#         'k': 'h',\n",
    "        's': 't',\n",
    "        'a': 'e'\n",
    "    } \n",
    "r2 = {\n",
    "        'd': 'k',\n",
    "#         'h': 's',\n",
    "        'e': 'a'}"
   ]
  },
  {
   "cell_type": "code",
   "execution_count": 14,
   "id": "dc9be142",
   "metadata": {},
   "outputs": [],
   "source": [
    "def get_node(r):\n",
    "    nodes = []\n",
    "    for k,v in r.items():\n",
    "        nodes.append(k)\n",
    "        nodes.append(v)\n",
    "    return nodes"
   ]
  },
  {
   "cell_type": "code",
   "execution_count": 15,
   "id": "4033e099",
   "metadata": {},
   "outputs": [],
   "source": [
    "def get_edges(r, graph):\n",
    "    for k,v in r.items():\n",
    "        edge_from, edge_to = k,v\n",
    "        graph.edge(edge_from, edge_to)\n",
    "    return graph"
   ]
  },
  {
   "cell_type": "code",
   "execution_count": 16,
   "id": "e588b693",
   "metadata": {},
   "outputs": [],
   "source": [
    "feature_data = {'shape': 'circle', 'style': 'rounded,filled', 'fillcolor': '#FFFFCC', 'peripheries': 1,\n",
    "                    'fontname': \"Helvetica-BoldOblique\"}"
   ]
  },
  {
   "cell_type": "markdown",
   "id": "7563cc94",
   "metadata": {},
   "source": [
    "### Base Graph r1"
   ]
  },
  {
   "cell_type": "code",
   "execution_count": 17,
   "id": "364c4be1",
   "metadata": {},
   "outputs": [
    {
     "data": {
      "text/plain": [
       "'Graphs-PC/pc_base_graph.gv.pdf'"
      ]
     },
     "execution_count": 17,
     "metadata": {},
     "output_type": "execute_result"
    }
   ],
   "source": [
    "# Draw r1\n",
    "base_graph = Digraph('Base-Graph', filename='Graphs-PC/pc_base_graph.gv')\n",
    "base_nodes = get_node(r1)\n",
    "for base_node in base_nodes:\n",
    "    base_graph.node(base_node) # add nodes to base graph\n",
    "base_graph = get_edges(r1, base_graph) # add edges to base graph\n",
    "base_graph.attr('node', shape=feature_data['shape'], style=feature_data['style'], fillcolor=feature_data['fillcolor'])\n",
    "base_graph.view()"
   ]
  },
  {
   "cell_type": "markdown",
   "id": "dda32dab",
   "metadata": {},
   "source": [
    "### New Graph r2"
   ]
  },
  {
   "cell_type": "code",
   "execution_count": 18,
   "id": "e59ef804",
   "metadata": {},
   "outputs": [
    {
     "data": {
      "text/plain": [
       "'Graphs-PC/pc_new_graph.gv.pdf'"
      ]
     },
     "execution_count": 18,
     "metadata": {},
     "output_type": "execute_result"
    }
   ],
   "source": [
    "# Draw r2\n",
    "new_graph = Digraph('New-Graph', filename='Graphs-PC/pc_new_graph.gv')\n",
    "new_nodes = get_node(r2)\n",
    "for new_node in new_nodes:\n",
    "    new_graph.node(new_node) # add nodes to base graph\n",
    "new_graph = get_edges(r2, new_graph) # add edges to base graph\n",
    "new_graph.attr('node', shape=feature_data['shape'], style=feature_data['style'], fillcolor=feature_data['fillcolor'])\n",
    "new_graph.view()"
   ]
  },
  {
   "cell_type": "markdown",
   "id": "b0761bcd",
   "metadata": {},
   "source": [
    "## Merge r1 and r2: Add Linages from r2 to r1\n",
    "\n",
    "### Conflict 1: d->g (r1) or d->k (r2)\n",
    "#### Conflict Senerio I: same source value, different target value\n"
   ]
  },
  {
   "cell_type": "code",
   "execution_count": 8,
   "id": "5452a588",
   "metadata": {},
   "outputs": [
    {
     "name": "stdout",
     "output_type": "stream",
     "text": [
      "Conflict: d->k from r2; d->g from r1\n"
     ]
    },
    {
     "data": {
      "text/plain": [
       "'Graphs-PC/pc_base_graph_temp0.gv.pdf'"
      ]
     },
     "execution_count": 8,
     "metadata": {},
     "output_type": "execute_result"
    }
   ],
   "source": [
    "# check value of from\n",
    "print(\"Conflict: d->k from r2; d->g from r1\")\n",
    "base_graph_t0 = Digraph('Base-Graph-step0-bf-merge', filename='Graphs-PC/pc_base_graph_temp0.gv')\n",
    "base_nodes = get_node(r1)\n",
    "for base_node in base_nodes:\n",
    "    base_graph_t0.node(base_node) # add nodes to base graph\n",
    "base_graph_t0 = get_edges(r1, base_graph_t0) # add edges to base graph\n",
    "base_graph_t0.attr('node', shape=feature_data['shape'], style=feature_data['style'], fillcolor=feature_data['fillcolor'])\n",
    "\n",
    "base_graph_t0.edge('d', 'k')\n",
    "base_graph_t0.node('d', color='red')\n",
    "base_graph_t0.view()"
   ]
  },
  {
   "cell_type": "markdown",
   "id": "5c265ab4",
   "metadata": {},
   "source": [
    "### DSM (Deterministic Sequential Machine): replace the previous with lattest edit function: choose d->k"
   ]
  },
  {
   "cell_type": "code",
   "execution_count": 19,
   "id": "4baab3ef",
   "metadata": {},
   "outputs": [
    {
     "data": {
      "text/plain": [
       "'Graphs-PC/pc_base_dsm_c1.gv.pdf'"
      ]
     },
     "execution_count": 19,
     "metadata": {},
     "output_type": "execute_result"
    }
   ],
   "source": [
    "# replace 'd':'g'\n",
    "r1_v1 = {\n",
    "        'd': 'k',\n",
    "        's': 't',\n",
    "        'a': 'e'\n",
    "    } \n",
    "# Normalized merged r1\n",
    "# normalized_r1_v1 = {\n",
    "#         'd': 'h',\n",
    "#         'k': 'h',\n",
    "#         's': 't',\n",
    "#         'a': 'e'\n",
    "#     } \n",
    "\n",
    "# draw update r1: \n",
    "base_graph_c1_dsm = Digraph('Base-Graph-Conflict1-dsm', filename='Graphs-PC/pc_base_dsm_c1.gv')\n",
    "base_nodes = get_node(r1_v1)\n",
    "for base_node in base_nodes:\n",
    "    base_graph_c1_dsm.node(base_node) # add nodes to base graph\n",
    "base_graph_c1_dsm = get_edges(r1_v1, base_graph_c1_dsm) # add edges to base graph\n",
    "base_graph_c1_dsm.attr('node', shape=feature_data['shape'], style=feature_data['style'], fillcolor=feature_data['fillcolor'])\n",
    "base_graph_c1_dsm.view()"
   ]
  },
  {
   "cell_type": "markdown",
   "id": "25d17cbc",
   "metadata": {},
   "source": [
    "### RPM (Random Parallel Machine) [Ignore mode]:  drop both conflicts"
   ]
  },
  {
   "cell_type": "code",
   "execution_count": 12,
   "id": "a21da581",
   "metadata": {},
   "outputs": [
    {
     "data": {
      "text/plain": [
       "'Graphs-PC/pc_base_c1_rpm_ig.gv.pdf'"
      ]
     },
     "execution_count": 12,
     "metadata": {},
     "output_type": "execute_result"
    }
   ],
   "source": [
    "# replace 'd':'g'\n",
    "r1_v1_rpm_ig = {\n",
    "        's': 't',\n",
    "        'a': 'e'\n",
    "    } \n",
    "# Normalized merged r1\n",
    "# normalized_r1_v1 = {\n",
    "#         'd': 'h',\n",
    "#         'k': 'h',\n",
    "#         's': 't',\n",
    "#         'a': 'e'\n",
    "#     } \n",
    "\n",
    "# draw update r1: \n",
    "base_graph_c1_rpm = Digraph('Base-Graph-Conflict1-rpm-ig', filename='Graphs-PC/pc_base_c1_rpm_ig.gv')\n",
    "base_nodes = get_node(r1_v1_rpm_ig)\n",
    "for base_node in base_nodes:\n",
    "    base_graph_c1_rpm.node(base_node) # add nodes to base graph\n",
    "base_graph_c1_rpm = get_edges(r1_v1_rpm_ig, base_graph_c1_rpm) # add edges to base graph\n",
    "base_graph_c1_rpm.attr('node', shape=feature_data['shape'], style=feature_data['style'], fillcolor=feature_data['fillcolor'])\n",
    "base_graph_c1_rpm.view()"
   ]
  },
  {
   "cell_type": "markdown",
   "id": "ffef3676",
   "metadata": {},
   "source": [
    "### LOOP "
   ]
  },
  {
   "cell_type": "code",
   "execution_count": 20,
   "id": "141b5d42",
   "metadata": {},
   "outputs": [
    {
     "data": {
      "text/plain": [
       "'Graphs-PC/loop.gv.pdf'"
      ]
     },
     "execution_count": 20,
     "metadata": {},
     "output_type": "execute_result"
    }
   ],
   "source": [
    "r1_v2 = {\n",
    "    'd': 'g',\n",
    "    's': 't',\n",
    "    'a': 'e'\n",
    "    \n",
    "}\n",
    "loop = Digraph('loop', filename='Graphs-PC/loop.gv')\n",
    "base_nodes = get_node(r1_v2)\n",
    "for base_node in base_nodes:\n",
    "    loop.node(base_node) # add nodes to base graph\n",
    "loop = get_edges(r1_v2, loop) # add edges to base graph\n",
    "loop.attr('node', shape=feature_data['shape'], style=feature_data['style'], fillcolor=feature_data['fillcolor'])\n",
    "loop.edge('e', 'a')\n",
    "loop.node('e', color='red')\n",
    "loop.node('a', color='red')\n",
    "loop.view()"
   ]
  },
  {
   "cell_type": "markdown",
   "id": "4ab1f52b",
   "metadata": {},
   "source": [
    "### RPM(Random Parallel Machine) [User mode]: Resolve loops"
   ]
  },
  {
   "cell_type": "code",
   "execution_count": 21,
   "id": "c66d4e34",
   "metadata": {},
   "outputs": [
    {
     "data": {
      "text/plain": [
       "'Graphs-PC/loop_user_fix.gv.pdf'"
      ]
     },
     "execution_count": 21,
     "metadata": {},
     "output_type": "execute_result"
    }
   ],
   "source": [
    "r1_v2_user = {\n",
    "    'd': 'g',\n",
    "    's': 't',\n",
    "    'e': 'a'\n",
    "    \n",
    "}\n",
    "loop_fix = Digraph('loop_user_fix', filename='Graphs-PC/loop_user_fix.gv')\n",
    "base_nodes = get_node(r1_v2_user)\n",
    "for base_node in base_nodes:\n",
    "    loop_fix.node(base_node) # add nodes to base graph\n",
    "loop_fix = get_edges(r1_v2_user, loop_fix) # add edges to base graph\n",
    "loop_fix.attr('node', shape=feature_data['shape'], style=feature_data['style'], fillcolor=feature_data['fillcolor'])\n",
    "loop_fix.view()"
   ]
  },
  {
   "cell_type": "markdown",
   "id": "79b5d2a8",
   "metadata": {},
   "source": [
    "### >>>>>>Archive Following >>>>"
   ]
  },
  {
   "cell_type": "markdown",
   "id": "4183ff76",
   "metadata": {},
   "source": [
    "### Step 2: Add {h -> s} from r2 to r1\n",
    "#### Normalize I: Transitive rule"
   ]
  },
  {
   "cell_type": "code",
   "execution_count": 24,
   "id": "1bdb41a5",
   "metadata": {},
   "outputs": [
    {
     "data": {
      "text/plain": [
       "'Graphs-PC/pc_base_graph_step2_bf.gv.pdf'"
      ]
     },
     "execution_count": 24,
     "metadata": {},
     "output_type": "execute_result"
    }
   ],
   "source": [
    "base_graph_step2_bf_merge = Digraph('Base-Graph-step2-bf', filename='Graphs-PC/pc_base_graph_step2_bf.gv')\n",
    "base_nodes = get_node(normalized_r1_v1)\n",
    "for base_node in base_nodes:\n",
    "    base_graph_step2_bf_merge.node(base_node) # add nodes to base graph\n",
    "base_graph_step2_bf_merge = get_edges(normalized_r1_v1, base_graph_step2_bf_merge) # add edges to base graph\n",
    "base_graph_step2_bf_merge.attr('node', shape=feature_data['shape'], style=feature_data['style'], fillcolor=feature_data['fillcolor'])\n",
    "\n",
    "base_graph_step2_bf_merge.edge('h', 's')\n",
    "base_graph_step2_bf_merge.node('h', color='red')\n",
    "base_graph_step2_bf_merge.node('d', color='red')\n",
    "base_graph_step2_bf_merge.node('k', color='red')\n",
    "base_graph_step2_bf_merge.node('s', color='red')\n",
    "base_graph_step2_bf_merge.view()"
   ]
  },
  {
   "cell_type": "code",
   "execution_count": 25,
   "id": "da5ea303",
   "metadata": {},
   "outputs": [
    {
     "data": {
      "text/plain": [
       "'Graphs-PC/pc_base_graph_n2.gv.pdf'"
      ]
     },
     "execution_count": 25,
     "metadata": {},
     "output_type": "execute_result"
    }
   ],
   "source": [
    "r1_v2 = {\n",
    "        'd': 'h',\n",
    "        'k': 'h',\n",
    "        's': 't',\n",
    "        'a': 'e',\n",
    "        'h': 's'\n",
    "    } \n",
    "# two transitive rules: \n",
    "#  d ->h -> s -> t; ....\n",
    "normalized_r1_v2 = {\n",
    "    'd':'t',\n",
    "    'k':'t',\n",
    "    's':'t',\n",
    "    'a': 'e',\n",
    "    'h': 't'\n",
    "}\n",
    "\n",
    "# draw update r1: \n",
    "base_graph_n2 = Digraph('Base-Graph-Norm2', filename='Graphs-PC/pc_base_graph_n2.gv')\n",
    "base_nodes = get_node(normalized_r1_v2)\n",
    "for base_node in base_nodes:\n",
    "    base_graph_n2.node(base_node) # add nodes to base graph\n",
    "base_graph_n2 = get_edges(normalized_r1_v2, base_graph_n2) # add edges to base graph\n",
    "base_graph_n2.attr('node', shape=feature_data['shape'], style=feature_data['style'], fillcolor=feature_data['fillcolor'])\n",
    "base_graph_n2.view()"
   ]
  },
  {
   "cell_type": "markdown",
   "id": "19aad62c",
   "metadata": {},
   "source": [
    "### Step 3: Add {e -> a} from r2 to r1\n",
    "#### Conflict II: Loop occurs "
   ]
  },
  {
   "cell_type": "code",
   "execution_count": 26,
   "id": "3164efcd",
   "metadata": {},
   "outputs": [
    {
     "data": {
      "text/plain": [
       "'Graphs-PC/pc_base_graph_step3_bf.gv.pdf'"
      ]
     },
     "execution_count": 26,
     "metadata": {},
     "output_type": "execute_result"
    }
   ],
   "source": [
    "base_graph_step3_bf_merge = Digraph('Base-Graph-step3-bf', filename='Graphs-PC/pc_base_graph_step3_bf.gv')\n",
    "base_nodes = get_node(normalized_r1_v2)\n",
    "for base_node in base_nodes:\n",
    "    base_graph_step3_bf_merge.node(base_node) # add nodes to base graph\n",
    "base_graph_step3_bf_merge = get_edges(normalized_r1_v2, base_graph_step3_bf_merge) # add edges to base graph\n",
    "base_graph_step3_bf_merge.attr('node', shape=feature_data['shape'], style=feature_data['style'], fillcolor=feature_data['fillcolor'])\n",
    "base_graph_step3_bf_merge.edge('e', 'a')\n",
    "base_graph_step3_bf_merge.node('e', color='red')\n",
    "base_graph_step3_bf_merge.node('a', color='red')\n",
    "base_graph_step3_bf_merge.view()\n",
    "base_graph_step3_bf_merge.view()"
   ]
  },
  {
   "cell_type": "code",
   "execution_count": 27,
   "id": "a7376342",
   "metadata": {},
   "outputs": [
    {
     "data": {
      "text/plain": [
       "'Graphs-PC/pc_base_graph_c3.gv.pdf'"
      ]
     },
     "execution_count": 27,
     "metadata": {},
     "output_type": "execute_result"
    }
   ],
   "source": [
    "# solution I: replace a-> e with e->a \n",
    "r1_v3 = {\n",
    "         'd':'t',\n",
    "        'k':'t',\n",
    "        's':'t',\n",
    "        'e': 'a',\n",
    "        'h': 't'\n",
    "    } \n",
    "# two transitive rules: \n",
    "#  d ->h -> s -> t; ....\n",
    "normalized_r1_v3 = r1_v3\n",
    "\n",
    "# draw update r1: \n",
    "base_graph_c3 = Digraph('Base-Graph-Conflict3', filename='Graphs-PC/pc_base_graph_c3.gv')\n",
    "base_nodes = get_node(normalized_r1_v3)\n",
    "for base_node in base_nodes:\n",
    "    base_graph_c3.node(base_node) # add nodes to base graph\n",
    "base_graph_c3 = get_edges(normalized_r1_v3, base_graph_c3) # add edges to base graph\n",
    "base_graph_c3.attr('node', shape=feature_data['shape'], style=feature_data['style'], fillcolor=feature_data['fillcolor'])\n",
    "base_graph_c3.view()"
   ]
  },
  {
   "cell_type": "code",
   "execution_count": null,
   "id": "b2eebff0",
   "metadata": {},
   "outputs": [],
   "source": []
  }
 ],
 "metadata": {
  "kernelspec": {
   "display_name": "Python 3 (ipykernel)",
   "language": "python",
   "name": "python3"
  },
  "language_info": {
   "codemirror_mode": {
    "name": "ipython",
    "version": 3
   },
   "file_extension": ".py",
   "mimetype": "text/x-python",
   "name": "python",
   "nbconvert_exporter": "python",
   "pygments_lexer": "ipython3",
   "version": "3.9.6"
  }
 },
 "nbformat": 4,
 "nbformat_minor": 5
}
