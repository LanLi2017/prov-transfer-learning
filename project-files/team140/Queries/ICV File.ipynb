{
 "cells": [
  {
   "cell_type": "code",
   "execution_count": 1,
   "metadata": {},
   "outputs": [
    {
     "ename": "ModuleNotFoundError",
     "evalue": "No module named 'lib'",
     "output_type": "error",
     "traceback": [
      "\u001b[0;31m---------------------------------------------------------------------------\u001b[0m",
      "\u001b[0;31mModuleNotFoundError\u001b[0m                       Traceback (most recent call last)",
      "\u001b[0;32m<ipython-input-1-c22f1c64c603>\u001b[0m in \u001b[0;36m<module>\u001b[0;34m\u001b[0m\n\u001b[1;32m      1\u001b[0m \u001b[0mget_ipython\u001b[0m\u001b[0;34m(\u001b[0m\u001b[0;34m)\u001b[0m\u001b[0;34m.\u001b[0m\u001b[0mrun_line_magic\u001b[0m\u001b[0;34m(\u001b[0m\u001b[0;34m'reload_ext'\u001b[0m\u001b[0;34m,\u001b[0m \u001b[0;34m'sql'\u001b[0m\u001b[0;34m)\u001b[0m\u001b[0;34m\u001b[0m\u001b[0;34m\u001b[0m\u001b[0m\n\u001b[0;32m----> 2\u001b[0;31m \u001b[0mget_ipython\u001b[0m\u001b[0;34m(\u001b[0m\u001b[0;34m)\u001b[0m\u001b[0;34m.\u001b[0m\u001b[0mrun_line_magic\u001b[0m\u001b[0;34m(\u001b[0m\u001b[0;34m'reload_ext'\u001b[0m\u001b[0;34m,\u001b[0m \u001b[0;34m'lib.sqlite.sqlite_evaluate_magic'\u001b[0m\u001b[0;34m)\u001b[0m\u001b[0;34m\u001b[0m\u001b[0;34m\u001b[0m\u001b[0m\n\u001b[0m",
      "\u001b[0;32m/opt/anaconda3/lib/python3.8/site-packages/IPython/core/interactiveshell.py\u001b[0m in \u001b[0;36mrun_line_magic\u001b[0;34m(self, magic_name, line, _stack_depth)\u001b[0m\n\u001b[1;32m   2325\u001b[0m                 \u001b[0mkwargs\u001b[0m\u001b[0;34m[\u001b[0m\u001b[0;34m'local_ns'\u001b[0m\u001b[0;34m]\u001b[0m \u001b[0;34m=\u001b[0m \u001b[0mself\u001b[0m\u001b[0;34m.\u001b[0m\u001b[0mget_local_scope\u001b[0m\u001b[0;34m(\u001b[0m\u001b[0mstack_depth\u001b[0m\u001b[0;34m)\u001b[0m\u001b[0;34m\u001b[0m\u001b[0;34m\u001b[0m\u001b[0m\n\u001b[1;32m   2326\u001b[0m             \u001b[0;32mwith\u001b[0m \u001b[0mself\u001b[0m\u001b[0;34m.\u001b[0m\u001b[0mbuiltin_trap\u001b[0m\u001b[0;34m:\u001b[0m\u001b[0;34m\u001b[0m\u001b[0;34m\u001b[0m\u001b[0m\n\u001b[0;32m-> 2327\u001b[0;31m                 \u001b[0mresult\u001b[0m \u001b[0;34m=\u001b[0m \u001b[0mfn\u001b[0m\u001b[0;34m(\u001b[0m\u001b[0;34m*\u001b[0m\u001b[0margs\u001b[0m\u001b[0;34m,\u001b[0m \u001b[0;34m**\u001b[0m\u001b[0mkwargs\u001b[0m\u001b[0;34m)\u001b[0m\u001b[0;34m\u001b[0m\u001b[0;34m\u001b[0m\u001b[0m\n\u001b[0m\u001b[1;32m   2328\u001b[0m             \u001b[0;32mreturn\u001b[0m \u001b[0mresult\u001b[0m\u001b[0;34m\u001b[0m\u001b[0;34m\u001b[0m\u001b[0m\n\u001b[1;32m   2329\u001b[0m \u001b[0;34m\u001b[0m\u001b[0m\n",
      "\u001b[0;32m<decorator-gen-59>\u001b[0m in \u001b[0;36mreload_ext\u001b[0;34m(self, module_str)\u001b[0m\n",
      "\u001b[0;32m/opt/anaconda3/lib/python3.8/site-packages/IPython/core/magic.py\u001b[0m in \u001b[0;36m<lambda>\u001b[0;34m(f, *a, **k)\u001b[0m\n\u001b[1;32m    185\u001b[0m     \u001b[0;31m# but it's overkill for just that one bit of state.\u001b[0m\u001b[0;34m\u001b[0m\u001b[0;34m\u001b[0m\u001b[0;34m\u001b[0m\u001b[0m\n\u001b[1;32m    186\u001b[0m     \u001b[0;32mdef\u001b[0m \u001b[0mmagic_deco\u001b[0m\u001b[0;34m(\u001b[0m\u001b[0marg\u001b[0m\u001b[0;34m)\u001b[0m\u001b[0;34m:\u001b[0m\u001b[0;34m\u001b[0m\u001b[0;34m\u001b[0m\u001b[0m\n\u001b[0;32m--> 187\u001b[0;31m         \u001b[0mcall\u001b[0m \u001b[0;34m=\u001b[0m \u001b[0;32mlambda\u001b[0m \u001b[0mf\u001b[0m\u001b[0;34m,\u001b[0m \u001b[0;34m*\u001b[0m\u001b[0ma\u001b[0m\u001b[0;34m,\u001b[0m \u001b[0;34m**\u001b[0m\u001b[0mk\u001b[0m\u001b[0;34m:\u001b[0m \u001b[0mf\u001b[0m\u001b[0;34m(\u001b[0m\u001b[0;34m*\u001b[0m\u001b[0ma\u001b[0m\u001b[0;34m,\u001b[0m \u001b[0;34m**\u001b[0m\u001b[0mk\u001b[0m\u001b[0;34m)\u001b[0m\u001b[0;34m\u001b[0m\u001b[0;34m\u001b[0m\u001b[0m\n\u001b[0m\u001b[1;32m    188\u001b[0m \u001b[0;34m\u001b[0m\u001b[0m\n\u001b[1;32m    189\u001b[0m         \u001b[0;32mif\u001b[0m \u001b[0mcallable\u001b[0m\u001b[0;34m(\u001b[0m\u001b[0marg\u001b[0m\u001b[0;34m)\u001b[0m\u001b[0;34m:\u001b[0m\u001b[0;34m\u001b[0m\u001b[0;34m\u001b[0m\u001b[0m\n",
      "\u001b[0;32m/opt/anaconda3/lib/python3.8/site-packages/IPython/core/magics/extension.py\u001b[0m in \u001b[0;36mreload_ext\u001b[0;34m(self, module_str)\u001b[0m\n\u001b[1;32m     61\u001b[0m         \u001b[0;32mif\u001b[0m \u001b[0;32mnot\u001b[0m \u001b[0mmodule_str\u001b[0m\u001b[0;34m:\u001b[0m\u001b[0;34m\u001b[0m\u001b[0;34m\u001b[0m\u001b[0m\n\u001b[1;32m     62\u001b[0m             \u001b[0;32mraise\u001b[0m \u001b[0mUsageError\u001b[0m\u001b[0;34m(\u001b[0m\u001b[0;34m'Missing module name.'\u001b[0m\u001b[0;34m)\u001b[0m\u001b[0;34m\u001b[0m\u001b[0;34m\u001b[0m\u001b[0m\n\u001b[0;32m---> 63\u001b[0;31m         \u001b[0mself\u001b[0m\u001b[0;34m.\u001b[0m\u001b[0mshell\u001b[0m\u001b[0;34m.\u001b[0m\u001b[0mextension_manager\u001b[0m\u001b[0;34m.\u001b[0m\u001b[0mreload_extension\u001b[0m\u001b[0;34m(\u001b[0m\u001b[0mmodule_str\u001b[0m\u001b[0;34m)\u001b[0m\u001b[0;34m\u001b[0m\u001b[0;34m\u001b[0m\u001b[0m\n\u001b[0m",
      "\u001b[0;32m/opt/anaconda3/lib/python3.8/site-packages/IPython/core/extensions.py\u001b[0m in \u001b[0;36mreload_extension\u001b[0;34m(self, module_str)\u001b[0m\n\u001b[1;32m    128\u001b[0m                 \u001b[0mself\u001b[0m\u001b[0;34m.\u001b[0m\u001b[0mloaded\u001b[0m\u001b[0;34m.\u001b[0m\u001b[0madd\u001b[0m\u001b[0;34m(\u001b[0m\u001b[0mmodule_str\u001b[0m\u001b[0;34m)\u001b[0m\u001b[0;34m\u001b[0m\u001b[0;34m\u001b[0m\u001b[0m\n\u001b[1;32m    129\u001b[0m         \u001b[0;32melse\u001b[0m\u001b[0;34m:\u001b[0m\u001b[0;34m\u001b[0m\u001b[0;34m\u001b[0m\u001b[0m\n\u001b[0;32m--> 130\u001b[0;31m             \u001b[0mself\u001b[0m\u001b[0;34m.\u001b[0m\u001b[0mload_extension\u001b[0m\u001b[0;34m(\u001b[0m\u001b[0mmodule_str\u001b[0m\u001b[0;34m)\u001b[0m\u001b[0;34m\u001b[0m\u001b[0;34m\u001b[0m\u001b[0m\n\u001b[0m\u001b[1;32m    131\u001b[0m \u001b[0;34m\u001b[0m\u001b[0m\n\u001b[1;32m    132\u001b[0m     \u001b[0;32mdef\u001b[0m \u001b[0m_call_load_ipython_extension\u001b[0m\u001b[0;34m(\u001b[0m\u001b[0mself\u001b[0m\u001b[0;34m,\u001b[0m \u001b[0mmod\u001b[0m\u001b[0;34m)\u001b[0m\u001b[0;34m:\u001b[0m\u001b[0;34m\u001b[0m\u001b[0;34m\u001b[0m\u001b[0m\n",
      "\u001b[0;32m/opt/anaconda3/lib/python3.8/site-packages/IPython/core/extensions.py\u001b[0m in \u001b[0;36mload_extension\u001b[0;34m(self, module_str)\u001b[0m\n\u001b[1;32m     78\u001b[0m             \u001b[0;32mif\u001b[0m \u001b[0mmodule_str\u001b[0m \u001b[0;32mnot\u001b[0m \u001b[0;32min\u001b[0m \u001b[0msys\u001b[0m\u001b[0;34m.\u001b[0m\u001b[0mmodules\u001b[0m\u001b[0;34m:\u001b[0m\u001b[0;34m\u001b[0m\u001b[0;34m\u001b[0m\u001b[0m\n\u001b[1;32m     79\u001b[0m                 \u001b[0;32mwith\u001b[0m \u001b[0mprepended_to_syspath\u001b[0m\u001b[0;34m(\u001b[0m\u001b[0mself\u001b[0m\u001b[0;34m.\u001b[0m\u001b[0mipython_extension_dir\u001b[0m\u001b[0;34m)\u001b[0m\u001b[0;34m:\u001b[0m\u001b[0;34m\u001b[0m\u001b[0;34m\u001b[0m\u001b[0m\n\u001b[0;32m---> 80\u001b[0;31m                     \u001b[0mmod\u001b[0m \u001b[0;34m=\u001b[0m \u001b[0mimport_module\u001b[0m\u001b[0;34m(\u001b[0m\u001b[0mmodule_str\u001b[0m\u001b[0;34m)\u001b[0m\u001b[0;34m\u001b[0m\u001b[0;34m\u001b[0m\u001b[0m\n\u001b[0m\u001b[1;32m     81\u001b[0m                     \u001b[0;32mif\u001b[0m \u001b[0mmod\u001b[0m\u001b[0;34m.\u001b[0m\u001b[0m__file__\u001b[0m\u001b[0;34m.\u001b[0m\u001b[0mstartswith\u001b[0m\u001b[0;34m(\u001b[0m\u001b[0mself\u001b[0m\u001b[0;34m.\u001b[0m\u001b[0mipython_extension_dir\u001b[0m\u001b[0;34m)\u001b[0m\u001b[0;34m:\u001b[0m\u001b[0;34m\u001b[0m\u001b[0;34m\u001b[0m\u001b[0m\n\u001b[1;32m     82\u001b[0m                         print((\"Loading extensions from {dir} is deprecated. \"\n",
      "\u001b[0;32m/opt/anaconda3/lib/python3.8/importlib/__init__.py\u001b[0m in \u001b[0;36mimport_module\u001b[0;34m(name, package)\u001b[0m\n\u001b[1;32m    125\u001b[0m                 \u001b[0;32mbreak\u001b[0m\u001b[0;34m\u001b[0m\u001b[0;34m\u001b[0m\u001b[0m\n\u001b[1;32m    126\u001b[0m             \u001b[0mlevel\u001b[0m \u001b[0;34m+=\u001b[0m \u001b[0;36m1\u001b[0m\u001b[0;34m\u001b[0m\u001b[0;34m\u001b[0m\u001b[0m\n\u001b[0;32m--> 127\u001b[0;31m     \u001b[0;32mreturn\u001b[0m \u001b[0m_bootstrap\u001b[0m\u001b[0;34m.\u001b[0m\u001b[0m_gcd_import\u001b[0m\u001b[0;34m(\u001b[0m\u001b[0mname\u001b[0m\u001b[0;34m[\u001b[0m\u001b[0mlevel\u001b[0m\u001b[0;34m:\u001b[0m\u001b[0;34m]\u001b[0m\u001b[0;34m,\u001b[0m \u001b[0mpackage\u001b[0m\u001b[0;34m,\u001b[0m \u001b[0mlevel\u001b[0m\u001b[0;34m)\u001b[0m\u001b[0;34m\u001b[0m\u001b[0;34m\u001b[0m\u001b[0m\n\u001b[0m\u001b[1;32m    128\u001b[0m \u001b[0;34m\u001b[0m\u001b[0m\n\u001b[1;32m    129\u001b[0m \u001b[0;34m\u001b[0m\u001b[0m\n",
      "\u001b[0;32m/opt/anaconda3/lib/python3.8/importlib/_bootstrap.py\u001b[0m in \u001b[0;36m_gcd_import\u001b[0;34m(name, package, level)\u001b[0m\n",
      "\u001b[0;32m/opt/anaconda3/lib/python3.8/importlib/_bootstrap.py\u001b[0m in \u001b[0;36m_find_and_load\u001b[0;34m(name, import_)\u001b[0m\n",
      "\u001b[0;32m/opt/anaconda3/lib/python3.8/importlib/_bootstrap.py\u001b[0m in \u001b[0;36m_find_and_load_unlocked\u001b[0;34m(name, import_)\u001b[0m\n",
      "\u001b[0;32m/opt/anaconda3/lib/python3.8/importlib/_bootstrap.py\u001b[0m in \u001b[0;36m_call_with_frames_removed\u001b[0;34m(f, *args, **kwds)\u001b[0m\n",
      "\u001b[0;32m/opt/anaconda3/lib/python3.8/importlib/_bootstrap.py\u001b[0m in \u001b[0;36m_gcd_import\u001b[0;34m(name, package, level)\u001b[0m\n",
      "\u001b[0;32m/opt/anaconda3/lib/python3.8/importlib/_bootstrap.py\u001b[0m in \u001b[0;36m_find_and_load\u001b[0;34m(name, import_)\u001b[0m\n",
      "\u001b[0;32m/opt/anaconda3/lib/python3.8/importlib/_bootstrap.py\u001b[0m in \u001b[0;36m_find_and_load_unlocked\u001b[0;34m(name, import_)\u001b[0m\n",
      "\u001b[0;32m/opt/anaconda3/lib/python3.8/importlib/_bootstrap.py\u001b[0m in \u001b[0;36m_call_with_frames_removed\u001b[0;34m(f, *args, **kwds)\u001b[0m\n",
      "\u001b[0;32m/opt/anaconda3/lib/python3.8/importlib/_bootstrap.py\u001b[0m in \u001b[0;36m_gcd_import\u001b[0;34m(name, package, level)\u001b[0m\n",
      "\u001b[0;32m/opt/anaconda3/lib/python3.8/importlib/_bootstrap.py\u001b[0m in \u001b[0;36m_find_and_load\u001b[0;34m(name, import_)\u001b[0m\n",
      "\u001b[0;32m/opt/anaconda3/lib/python3.8/importlib/_bootstrap.py\u001b[0m in \u001b[0;36m_find_and_load_unlocked\u001b[0;34m(name, import_)\u001b[0m\n",
      "\u001b[0;31mModuleNotFoundError\u001b[0m: No module named 'lib'"
     ]
    }
   ],
   "source": [
    "%reload_ext sql\n",
    "%reload_ext lib.sqlite.sqlite_evaluate_magic"
   ]
  },
  {
   "cell_type": "code",
   "execution_count": 2,
   "metadata": {},
   "outputs": [],
   "source": [
    "import os"
   ]
  },
  {
   "cell_type": "markdown",
   "metadata": {},
   "source": [
    "## Connecting to Menu Databasse"
   ]
  },
  {
   "cell_type": "code",
   "execution_count": 3,
   "metadata": {},
   "outputs": [
    {
     "data": {
      "text/plain": [
       "'Connected: @menus.db'"
      ]
     },
     "execution_count": 3,
     "metadata": {},
     "output_type": "execute_result"
    }
   ],
   "source": [
    "publications_db_url = 'sqlite:///' + os.path.expanduser('menus.db')\n",
    "%sql $publications_db_url"
   ]
  },
  {
   "cell_type": "code",
   "execution_count": null,
   "metadata": {},
   "outputs": [],
   "source": []
  },
  {
   "cell_type": "markdown",
   "metadata": {},
   "source": [
    "## Checking Table"
   ]
  },
  {
   "cell_type": "code",
   "execution_count": 4,
   "metadata": {},
   "outputs": [
    {
     "name": "stdout",
     "output_type": "stream",
     "text": [
      " * sqlite:///menus.db\n",
      "Done.\n"
     ]
    },
    {
     "data": {
      "text/html": [
       "<table>\n",
       "    <thead>\n",
       "        <tr>\n",
       "            <th>id</th>\n",
       "            <th>name</th>\n",
       "            <th>sponsor</th>\n",
       "            <th>event</th>\n",
       "            <th>venue</th>\n",
       "            <th>place</th>\n",
       "            <th>physical_description</th>\n",
       "            <th>occasion</th>\n",
       "            <th>notes</th>\n",
       "            <th>call_number</th>\n",
       "            <th>keywords</th>\n",
       "            <th>language</th>\n",
       "            <th>date</th>\n",
       "            <th>location</th>\n",
       "            <th>location_type</th>\n",
       "            <th>currency</th>\n",
       "            <th>currency_symbol</th>\n",
       "            <th>status</th>\n",
       "            <th>page_count</th>\n",
       "            <th>dish_count</th>\n",
       "        </tr>\n",
       "    </thead>\n",
       "    <tbody>\n",
       "        <tr>\n",
       "            <td>12463</td>\n",
       "            <td></td>\n",
       "            <td>HOTEL EASTMAN</td>\n",
       "            <td>BREAKFAST</td>\n",
       "            <td>COMMERCIAL</td>\n",
       "            <td>HOT SPRINGS, AR</td>\n",
       "            <td>CARD; 4.75X7.5;</td>\n",
       "            <td>EASTER</td>\n",
       "            <td></td>\n",
       "            <td>1900-2822</td>\n",
       "            <td></td>\n",
       "            <td></td>\n",
       "            <td>1900-04-15</td>\n",
       "            <td>Hotel Eastman</td>\n",
       "            <td></td>\n",
       "            <td></td>\n",
       "            <td></td>\n",
       "            <td>complete</td>\n",
       "            <td>2</td>\n",
       "            <td>67</td>\n",
       "        </tr>\n",
       "    </tbody>\n",
       "</table>"
      ],
      "text/plain": [
       "[('12463', '', 'HOTEL EASTMAN', 'BREAKFAST', 'COMMERCIAL', 'HOT SPRINGS, AR', 'CARD; 4.75X7.5;', 'EASTER', '', '1900-2822', '', '', '1900-04-15', 'Hotel Eastman', '', '', '', 'complete', '2', '67')]"
      ]
     },
     "execution_count": 4,
     "metadata": {},
     "output_type": "execute_result"
    }
   ],
   "source": [
    "%%sql \n",
    "select * from menu limit 1;"
   ]
  },
  {
   "cell_type": "code",
   "execution_count": 5,
   "metadata": {},
   "outputs": [
    {
     "name": "stdout",
     "output_type": "stream",
     "text": [
      " * sqlite:///menus.db\n",
      "Done.\n"
     ]
    },
    {
     "data": {
      "text/html": [
       "<table>\n",
       "    <thead>\n",
       "        <tr>\n",
       "            <th>id</th>\n",
       "            <th>name</th>\n",
       "            <th>description</th>\n",
       "            <th>menus_appeared</th>\n",
       "            <th>times_appeared</th>\n",
       "            <th>first_appeared</th>\n",
       "            <th>last_appeared</th>\n",
       "            <th>lowest_price</th>\n",
       "            <th>highest_price</th>\n",
       "        </tr>\n",
       "    </thead>\n",
       "    <tbody>\n",
       "        <tr>\n",
       "            <td>1</td>\n",
       "            <td>Consomme, Printaniere Royal</td>\n",
       "            <td></td>\n",
       "            <td>8</td>\n",
       "            <td>8</td>\n",
       "            <td>1897</td>\n",
       "            <td>1927</td>\n",
       "            <td>0.2</td>\n",
       "            <td>0.4</td>\n",
       "        </tr>\n",
       "    </tbody>\n",
       "</table>"
      ],
      "text/plain": [
       "[('1', 'Consomme, Printaniere Royal', '', '8', '8', '1897', '1927', '0.2', '0.4')]"
      ]
     },
     "execution_count": 5,
     "metadata": {},
     "output_type": "execute_result"
    }
   ],
   "source": [
    "%%sql \n",
    "select * from dish limit 1;"
   ]
  },
  {
   "cell_type": "markdown",
   "metadata": {},
   "source": [
    "## Check for uniqueness of id fields"
   ]
  },
  {
   "cell_type": "markdown",
   "metadata": {},
   "source": [
    "### Menu Table"
   ]
  },
  {
   "cell_type": "code",
   "execution_count": 6,
   "metadata": {},
   "outputs": [
    {
     "name": "stdout",
     "output_type": "stream",
     "text": [
      " * sqlite:///menus.db\n",
      "Done.\n"
     ]
    },
    {
     "data": {
      "text/html": [
       "<table>\n",
       "    <thead>\n",
       "        <tr>\n",
       "            <th>id</th>\n",
       "            <th>name</th>\n",
       "            <th>sponsor</th>\n",
       "            <th>event</th>\n",
       "            <th>venue</th>\n",
       "            <th>place</th>\n",
       "            <th>physical_description</th>\n",
       "            <th>occasion</th>\n",
       "            <th>notes</th>\n",
       "            <th>call_number</th>\n",
       "            <th>keywords</th>\n",
       "            <th>language</th>\n",
       "            <th>date</th>\n",
       "            <th>location</th>\n",
       "            <th>location_type</th>\n",
       "            <th>currency</th>\n",
       "            <th>currency_symbol</th>\n",
       "            <th>status</th>\n",
       "            <th>page_count</th>\n",
       "            <th>dish_count</th>\n",
       "        </tr>\n",
       "    </thead>\n",
       "    <tbody>\n",
       "    </tbody>\n",
       "</table>"
      ],
      "text/plain": [
       "[]"
      ]
     },
     "execution_count": 6,
     "metadata": {},
     "output_type": "execute_result"
    }
   ],
   "source": [
    "%%sql\n",
    "\n",
    "select *\n",
    "from menu\n",
    "where id in (select id as c \n",
    "from menu \n",
    "group by id\n",
    "having count(id) > 1 )"
   ]
  },
  {
   "cell_type": "markdown",
   "metadata": {},
   "source": [
    "### Dish Table"
   ]
  },
  {
   "cell_type": "code",
   "execution_count": 7,
   "metadata": {},
   "outputs": [
    {
     "name": "stdout",
     "output_type": "stream",
     "text": [
      " * sqlite:///menus.db\n",
      "Done.\n"
     ]
    },
    {
     "data": {
      "text/html": [
       "<table>\n",
       "    <thead>\n",
       "        <tr>\n",
       "            <th>id</th>\n",
       "            <th>name</th>\n",
       "            <th>description</th>\n",
       "            <th>menus_appeared</th>\n",
       "            <th>times_appeared</th>\n",
       "            <th>first_appeared</th>\n",
       "            <th>last_appeared</th>\n",
       "            <th>lowest_price</th>\n",
       "            <th>highest_price</th>\n",
       "        </tr>\n",
       "    </thead>\n",
       "    <tbody>\n",
       "    </tbody>\n",
       "</table>"
      ],
      "text/plain": [
       "[]"
      ]
     },
     "execution_count": 7,
     "metadata": {},
     "output_type": "execute_result"
    }
   ],
   "source": [
    "%%sql\n",
    "\n",
    "select *\n",
    "from dish\n",
    "where id in (select id as c \n",
    "from dish \n",
    "group by id\n",
    "having count(id) > 1 )"
   ]
  },
  {
   "cell_type": "markdown",
   "metadata": {},
   "source": [
    "### Menupage Table"
   ]
  },
  {
   "cell_type": "code",
   "execution_count": 8,
   "metadata": {},
   "outputs": [
    {
     "name": "stdout",
     "output_type": "stream",
     "text": [
      " * sqlite:///menus.db\n",
      "Done.\n"
     ]
    },
    {
     "data": {
      "text/html": [
       "<table>\n",
       "    <thead>\n",
       "        <tr>\n",
       "            <th>id</th>\n",
       "            <th>menu_id</th>\n",
       "            <th>page_number</th>\n",
       "            <th>image_id</th>\n",
       "            <th>full_height</th>\n",
       "            <th>full_width</th>\n",
       "            <th>uuid</th>\n",
       "        </tr>\n",
       "    </thead>\n",
       "    <tbody>\n",
       "    </tbody>\n",
       "</table>"
      ],
      "text/plain": [
       "[]"
      ]
     },
     "execution_count": 8,
     "metadata": {},
     "output_type": "execute_result"
    }
   ],
   "source": [
    "%%sql\n",
    "\n",
    "select *\n",
    "from menupage\n",
    "where id in (select id as c \n",
    "from menupage \n",
    "group by id\n",
    "having count(id) > 1 )"
   ]
  },
  {
   "cell_type": "markdown",
   "metadata": {},
   "source": [
    "### Menu Item Table"
   ]
  },
  {
   "cell_type": "code",
   "execution_count": 17,
   "metadata": {},
   "outputs": [
    {
     "name": "stdout",
     "output_type": "stream",
     "text": [
      " * sqlite:///menus.db\n",
      "Done.\n"
     ]
    },
    {
     "data": {
      "text/html": [
       "<table>\n",
       "    <thead>\n",
       "        <tr>\n",
       "            <th>id</th>\n",
       "            <th>menu_page_id</th>\n",
       "            <th>price</th>\n",
       "            <th>high_price</th>\n",
       "            <th>dish_id</th>\n",
       "            <th>created_at</th>\n",
       "            <th>updated_at</th>\n",
       "            <th>xpos</th>\n",
       "            <th>ypos</th>\n",
       "        </tr>\n",
       "    </thead>\n",
       "    <tbody>\n",
       "    </tbody>\n",
       "</table>"
      ],
      "text/plain": [
       "[]"
      ]
     },
     "execution_count": 17,
     "metadata": {},
     "output_type": "execute_result"
    }
   ],
   "source": [
    "%%sql\n",
    "\n",
    "select *\n",
    "from menuitem\n",
    "where id in (select id as c \n",
    "from menuitem \n",
    "group by id\n",
    "having count(id) > 1 )"
   ]
  },
  {
   "cell_type": "markdown",
   "metadata": {},
   "source": [
    "### Each Menu item should have a single menu page id"
   ]
  },
  {
   "cell_type": "code",
   "execution_count": 20,
   "metadata": {},
   "outputs": [
    {
     "name": "stdout",
     "output_type": "stream",
     "text": [
      " * sqlite:///menus.db\n",
      "Done.\n"
     ]
    },
    {
     "data": {
      "text/html": [
       "<table>\n",
       "    <thead>\n",
       "        <tr>\n",
       "            <th>id</th>\n",
       "            <th>menu_page_id</th>\n",
       "        </tr>\n",
       "    </thead>\n",
       "    <tbody>\n",
       "    </tbody>\n",
       "</table>"
      ],
      "text/plain": [
       "[]"
      ]
     },
     "execution_count": 20,
     "metadata": {},
     "output_type": "execute_result"
    }
   ],
   "source": [
    "%%sql\n",
    "\n",
    "\n",
    "select id, menu_page_id\n",
    "from menuitem\n",
    "where menu_page_id in (select id as c \n",
    "from menuitem \n",
    "group by id\n",
    "having count(menu_page_id) > 1 )"
   ]
  },
  {
   "cell_type": "markdown",
   "metadata": {},
   "source": [
    "### Dish Count less than me\n",
    "nu page count"
   ]
  },
  {
   "cell_type": "markdown",
   "metadata": {},
   "source": [
    "Ideally, dish count should be more than menu page count. But there are some instancs where this is not correct. This could be due to other details and pictures in the menu"
   ]
  },
  {
   "cell_type": "code",
   "execution_count": 38,
   "metadata": {},
   "outputs": [
    {
     "name": "stdout",
     "output_type": "stream",
     "text": [
      " * sqlite:///menus.db\n",
      "Done.\n"
     ]
    },
    {
     "data": {
      "text/html": [
       "<table>\n",
       "    <thead>\n",
       "        <tr>\n",
       "            <th>count(*)</th>\n",
       "        </tr>\n",
       "    </thead>\n",
       "    <tbody>\n",
       "        <tr>\n",
       "            <td>150</td>\n",
       "        </tr>\n",
       "    </tbody>\n",
       "</table>"
      ],
      "text/plain": [
       "[(150,)]"
      ]
     },
     "execution_count": 38,
     "metadata": {},
     "output_type": "execute_result"
    }
   ],
   "source": [
    "%%sql\n",
    "\n",
    "select count(*)\n",
    "from menu\n",
    "where cast(page_count as integer) > cast(dish_count as integer)"
   ]
  },
  {
   "cell_type": "markdown",
   "metadata": {},
   "source": [
    "### Lowest Price Should not be greater than highest price"
   ]
  },
  {
   "cell_type": "code",
   "execution_count": 41,
   "metadata": {},
   "outputs": [
    {
     "name": "stdout",
     "output_type": "stream",
     "text": [
      " * sqlite:///menus.db\n",
      "Done.\n"
     ]
    },
    {
     "data": {
      "text/html": [
       "<table>\n",
       "    <thead>\n",
       "        <tr>\n",
       "            <th>id</th>\n",
       "            <th>name</th>\n",
       "            <th>description</th>\n",
       "            <th>menus_appeared</th>\n",
       "            <th>times_appeared</th>\n",
       "            <th>first_appeared</th>\n",
       "            <th>last_appeared</th>\n",
       "            <th>lowest_price</th>\n",
       "            <th>highest_price</th>\n",
       "        </tr>\n",
       "    </thead>\n",
       "    <tbody>\n",
       "    </tbody>\n",
       "</table>"
      ],
      "text/plain": [
       "[]"
      ]
     },
     "execution_count": 41,
     "metadata": {},
     "output_type": "execute_result"
    }
   ],
   "source": [
    "%%sql\n",
    "\n",
    "select *\n",
    "from dish\n",
    "where cast(lowest_price as integer) > cast(highest_price as integer)"
   ]
  },
  {
   "cell_type": "markdown",
   "metadata": {},
   "source": [
    "### First appeared shold not be greater than last appeared"
   ]
  },
  {
   "cell_type": "code",
   "execution_count": 42,
   "metadata": {},
   "outputs": [
    {
     "name": "stdout",
     "output_type": "stream",
     "text": [
      " * sqlite:///menus.db\n",
      "Done.\n"
     ]
    },
    {
     "data": {
      "text/html": [
       "<table>\n",
       "    <thead>\n",
       "        <tr>\n",
       "            <th>id</th>\n",
       "            <th>name</th>\n",
       "            <th>description</th>\n",
       "            <th>menus_appeared</th>\n",
       "            <th>times_appeared</th>\n",
       "            <th>first_appeared</th>\n",
       "            <th>last_appeared</th>\n",
       "            <th>lowest_price</th>\n",
       "            <th>highest_price</th>\n",
       "        </tr>\n",
       "    </thead>\n",
       "    <tbody>\n",
       "        <tr>\n",
       "            <td>164029</td>\n",
       "            <td>Clear beef broth</td>\n",
       "            <td></td>\n",
       "            <td>0</td>\n",
       "            <td>1</td>\n",
       "            <td>1900</td>\n",
       "            <td>0</td>\n",
       "            <td>0.25</td>\n",
       "            <td>0.25</td>\n",
       "        </tr>\n",
       "        <tr>\n",
       "            <td>204888</td>\n",
       "            <td>Hot Roast Beef with Gravy</td>\n",
       "            <td></td>\n",
       "            <td>0</td>\n",
       "            <td>1</td>\n",
       "            <td>1900</td>\n",
       "            <td>0</td>\n",
       "            <td>0.25</td>\n",
       "            <td>0.25</td>\n",
       "        </tr>\n",
       "        <tr>\n",
       "            <td>250693</td>\n",
       "            <td>SURI LEBERLI - Shredded Calf&#x27;s Liver Flambe in White Wine, Roesti</td>\n",
       "            <td></td>\n",
       "            <td>0</td>\n",
       "            <td>1</td>\n",
       "            <td>1945</td>\n",
       "            <td>0</td>\n",
       "            <td></td>\n",
       "            <td></td>\n",
       "        </tr>\n",
       "        <tr>\n",
       "            <td>250699</td>\n",
       "            <td>SWISS MINCED VEAL, ROESTI</td>\n",
       "            <td></td>\n",
       "            <td>0</td>\n",
       "            <td>1</td>\n",
       "            <td>1945</td>\n",
       "            <td>0</td>\n",
       "            <td></td>\n",
       "            <td></td>\n",
       "        </tr>\n",
       "        <tr>\n",
       "            <td>301736</td>\n",
       "            <td>Cafe Glacee</td>\n",
       "            <td></td>\n",
       "            <td>0</td>\n",
       "            <td>2</td>\n",
       "            <td>1940</td>\n",
       "            <td>0</td>\n",
       "            <td>0.4</td>\n",
       "            <td>0.4</td>\n",
       "        </tr>\n",
       "        <tr>\n",
       "            <td>309629</td>\n",
       "            <td>Garlic Butter</td>\n",
       "            <td></td>\n",
       "            <td>0</td>\n",
       "            <td>1</td>\n",
       "            <td>1947</td>\n",
       "            <td>0</td>\n",
       "            <td>0.4</td>\n",
       "            <td>0.4</td>\n",
       "        </tr>\n",
       "    </tbody>\n",
       "</table>"
      ],
      "text/plain": [
       "[('164029', 'Clear beef broth', '', '0', '1', '1900', '0', '0.25', '0.25'),\n",
       " ('204888', 'Hot Roast Beef with Gravy', '', '0', '1', '1900', '0', '0.25', '0.25'),\n",
       " ('250693', \"SURI LEBERLI - Shredded Calf's Liver Flambe in White Wine, Roesti\", '', '0', '1', '1945', '0', '', ''),\n",
       " ('250699', 'SWISS MINCED VEAL, ROESTI', '', '0', '1', '1945', '0', '', ''),\n",
       " ('301736', 'Cafe Glacee', '', '0', '2', '1940', '0', '0.4', '0.4'),\n",
       " ('309629', 'Garlic Butter', '', '0', '1', '1947', '0', '0.4', '0.4')]"
      ]
     },
     "execution_count": 42,
     "metadata": {},
     "output_type": "execute_result"
    }
   ],
   "source": [
    "%%sql\n",
    "\n",
    "select *\n",
    "from dish\n",
    "where cast(first_appeared as integer) > cast(last_appeared as integer)"
   ]
  },
  {
   "cell_type": "markdown",
   "metadata": {},
   "source": [
    "### Top 5 dishes with most appearances "
   ]
  },
  {
   "cell_type": "code",
   "execution_count": 9,
   "metadata": {},
   "outputs": [
    {
     "name": "stdout",
     "output_type": "stream",
     "text": [
      " * sqlite:///menus.db\n",
      "Done.\n"
     ]
    },
    {
     "data": {
      "text/html": [
       "<table>\n",
       "    <thead>\n",
       "        <tr>\n",
       "            <th>name</th>\n",
       "            <th>count(name)</th>\n",
       "        </tr>\n",
       "    </thead>\n",
       "    <tbody>\n",
       "        <tr>\n",
       "            <td>Fried sweet potatoes</td>\n",
       "            <td>49</td>\n",
       "        </tr>\n",
       "        <tr>\n",
       "            <td>EGGS poached on toast (2)</td>\n",
       "            <td>48</td>\n",
       "        </tr>\n",
       "        <tr>\n",
       "            <td>Cold Roast Beef</td>\n",
       "            <td>47</td>\n",
       "        </tr>\n",
       "        <tr>\n",
       "            <td>Grape Fruit, Half</td>\n",
       "            <td>45</td>\n",
       "        </tr>\n",
       "        <tr>\n",
       "            <td>G H Mumm&#x27;s Extra Dry</td>\n",
       "            <td>45</td>\n",
       "        </tr>\n",
       "    </tbody>\n",
       "</table>"
      ],
      "text/plain": [
       "[('Fried sweet potatoes', 49),\n",
       " ('EGGS poached on toast (2)', 48),\n",
       " ('Cold Roast Beef', 47),\n",
       " ('Grape Fruit, Half', 45),\n",
       " (\"G H Mumm's Extra Dry\", 45)]"
      ]
     },
     "execution_count": 9,
     "metadata": {},
     "output_type": "execute_result"
    }
   ],
   "source": [
    "%%sql\n",
    "\n",
    "select name, count(name) \n",
    "from dish \n",
    "group by name \n",
    "order by count(name) desc\n",
    "limit 5"
   ]
  },
  {
   "cell_type": "markdown",
   "metadata": {},
   "source": [
    "### Top 5 dishes appearing on most number of menus"
   ]
  },
  {
   "cell_type": "code",
   "execution_count": 10,
   "metadata": {},
   "outputs": [
    {
     "name": "stdout",
     "output_type": "stream",
     "text": [
      " * sqlite:///menus.db\n",
      "Done.\n"
     ]
    },
    {
     "data": {
      "text/html": [
       "<table>\n",
       "    <thead>\n",
       "        <tr>\n",
       "            <th>id</th>\n",
       "            <th>name</th>\n",
       "            <th>menus_appeared</th>\n",
       "        </tr>\n",
       "    </thead>\n",
       "    <tbody>\n",
       "        <tr>\n",
       "            <td>150</td>\n",
       "            <td>Little Neck clams</td>\n",
       "            <td>995</td>\n",
       "        </tr>\n",
       "        <tr>\n",
       "            <td>1034</td>\n",
       "            <td>Anchovies on toast</td>\n",
       "            <td>99</td>\n",
       "        </tr>\n",
       "        <tr>\n",
       "            <td>1047</td>\n",
       "            <td>*Roast Capon</td>\n",
       "            <td>99</td>\n",
       "        </tr>\n",
       "        <tr>\n",
       "            <td>1372</td>\n",
       "            <td>Creme Yvette</td>\n",
       "            <td>99</td>\n",
       "        </tr>\n",
       "        <tr>\n",
       "            <td>2798</td>\n",
       "            <td>Pork Tenderloin</td>\n",
       "            <td>99</td>\n",
       "        </tr>\n",
       "    </tbody>\n",
       "</table>"
      ],
      "text/plain": [
       "[('150', 'Little Neck clams', '995'),\n",
       " ('1034', 'Anchovies on toast', '99'),\n",
       " ('1047', '*Roast Capon', '99'),\n",
       " ('1372', 'Creme Yvette', '99'),\n",
       " ('2798', 'Pork Tenderloin', '99')]"
      ]
     },
     "execution_count": 10,
     "metadata": {},
     "output_type": "execute_result"
    }
   ],
   "source": [
    "%%sql\n",
    "\n",
    "select id, name, menus_appeared \n",
    "from dish \n",
    "order by menus_appeared desc\n",
    "limit 5"
   ]
  },
  {
   "attachments": {},
   "cell_type": "markdown",
   "metadata": {},
   "source": [
    "# Let's see when a dish was appeared on which menu, sponsor, event, place (limiting to 10 counts)"
   ]
  },
  {
   "cell_type": "code",
   "execution_count": 73,
   "metadata": {},
   "outputs": [],
   "source": []
  },
  {
   "cell_type": "code",
   "execution_count": 12,
   "metadata": {},
   "outputs": [
    {
     "name": "stdout",
     "output_type": "stream",
     "text": [
      " * sqlite:///menus.db\n",
      "Done.\n"
     ]
    },
    {
     "data": {
      "text/html": [
       "<table>\n",
       "    <thead>\n",
       "        <tr>\n",
       "            <th>name</th>\n",
       "            <th>sponsor</th>\n",
       "            <th>event</th>\n",
       "            <th>place</th>\n",
       "            <th>first_appeared</th>\n",
       "            <th>date</th>\n",
       "        </tr>\n",
       "    </thead>\n",
       "    <tbody>\n",
       "        <tr>\n",
       "            <td>Fried Eggs</td>\n",
       "            <td>CUNARD LINE</td>\n",
       "            <td>BREAKFAST</td>\n",
       "            <td>SS ETRURIA</td>\n",
       "            <td>1856</td>\n",
       "            <td>1900-02-21</td>\n",
       "        </tr>\n",
       "        <tr>\n",
       "            <td>Fried Eggs</td>\n",
       "            <td></td>\n",
       "            <td></td>\n",
       "            <td></td>\n",
       "            <td>1856</td>\n",
       "            <td>1900-07-08</td>\n",
       "        </tr>\n",
       "        <tr>\n",
       "            <td>Fried Eggs</td>\n",
       "            <td></td>\n",
       "            <td></td>\n",
       "            <td></td>\n",
       "            <td>1856</td>\n",
       "            <td>1900-07-08</td>\n",
       "        </tr>\n",
       "        <tr>\n",
       "            <td>Fried Eggs</td>\n",
       "            <td></td>\n",
       "            <td></td>\n",
       "            <td></td>\n",
       "            <td>1856</td>\n",
       "            <td>1900-07-01</td>\n",
       "        </tr>\n",
       "        <tr>\n",
       "            <td>Fried Eggs</td>\n",
       "            <td>BATTERY PARK HOTEL</td>\n",
       "            <td>BREAKFAST</td>\n",
       "            <td>ASHEVILLE,NC</td>\n",
       "            <td>1856</td>\n",
       "            <td>1900-02-21</td>\n",
       "        </tr>\n",
       "        <tr>\n",
       "            <td>Fried Eggs</td>\n",
       "            <td></td>\n",
       "            <td></td>\n",
       "            <td></td>\n",
       "            <td>1856</td>\n",
       "            <td>1900-06-01</td>\n",
       "        </tr>\n",
       "        <tr>\n",
       "            <td>Fried Eggs</td>\n",
       "            <td></td>\n",
       "            <td></td>\n",
       "            <td></td>\n",
       "            <td>1856</td>\n",
       "            <td>1900-07-08</td>\n",
       "        </tr>\n",
       "        <tr>\n",
       "            <td>Fried Eggs</td>\n",
       "            <td>CANADIAN PACIFIC RAILWAY COMPANY</td>\n",
       "            <td>BREAKFAST</td>\n",
       "            <td>RMS EMPRESS OF CHINA</td>\n",
       "            <td>1856</td>\n",
       "            <td>1900-04-23</td>\n",
       "        </tr>\n",
       "        <tr>\n",
       "            <td>Fried Eggs</td>\n",
       "            <td></td>\n",
       "            <td></td>\n",
       "            <td></td>\n",
       "            <td>1856</td>\n",
       "            <td>1901-11-07</td>\n",
       "        </tr>\n",
       "        <tr>\n",
       "            <td>Fried Eggs</td>\n",
       "            <td></td>\n",
       "            <td></td>\n",
       "            <td></td>\n",
       "            <td>1856</td>\n",
       "            <td>1901-10-05</td>\n",
       "        </tr>\n",
       "    </tbody>\n",
       "</table>"
      ],
      "text/plain": [
       "[('Fried Eggs', 'CUNARD LINE', 'BREAKFAST', 'SS ETRURIA', '1856', '1900-02-21'),\n",
       " ('Fried Eggs', '', '', '', '1856', '1900-07-08'),\n",
       " ('Fried Eggs', '', '', '', '1856', '1900-07-08'),\n",
       " ('Fried Eggs', '', '', '', '1856', '1900-07-01'),\n",
       " ('Fried Eggs', 'BATTERY PARK HOTEL', 'BREAKFAST', 'ASHEVILLE,NC', '1856', '1900-02-21'),\n",
       " ('Fried Eggs', '', '', '', '1856', '1900-06-01'),\n",
       " ('Fried Eggs', '', '', '', '1856', '1900-07-08'),\n",
       " ('Fried Eggs', 'CANADIAN PACIFIC RAILWAY COMPANY', 'BREAKFAST', 'RMS EMPRESS OF CHINA', '1856', '1900-04-23'),\n",
       " ('Fried Eggs', '', '', '', '1856', '1901-11-07'),\n",
       " ('Fried Eggs', '', '', '', '1856', '1901-10-05')]"
      ]
     },
     "execution_count": 12,
     "metadata": {},
     "output_type": "execute_result"
    }
   ],
   "source": [
    "%%sql\n",
    "\n",
    "select dish.name, menu.sponsor, menu.event, menu.place, dish.first_appeared, menu.date\n",
    "from menu inner join menupage on menu.id = menupage.menu_id\n",
    "inner join menuitem on menupage.id = menuitem.menu_page_id\n",
    "inner join dish on menuitem.dish_id = dish.id\n",
    "where dish.name = 'Fried Eggs'\n",
    "limit 10\n"
   ]
  },
  {
   "cell_type": "markdown",
   "metadata": {},
   "source": [
    "# Let's see when a dish was first appered on which menu, sponser, event, place"
   ]
  },
  {
   "cell_type": "code",
   "execution_count": 13,
   "metadata": {},
   "outputs": [
    {
     "name": "stdout",
     "output_type": "stream",
     "text": [
      " * sqlite:///menus.db\n",
      "Done.\n"
     ]
    },
    {
     "data": {
      "text/html": [
       "<table>\n",
       "    <thead>\n",
       "        <tr>\n",
       "            <th>name</th>\n",
       "            <th>sponsor</th>\n",
       "            <th>event</th>\n",
       "            <th>place</th>\n",
       "            <th>date</th>\n",
       "            <th>first_appeared</th>\n",
       "        </tr>\n",
       "    </thead>\n",
       "    <tbody>\n",
       "        <tr>\n",
       "            <td>French Fries</td>\n",
       "            <td>Hotel Worthy</td>\n",
       "            <td>DINNER</td>\n",
       "            <td>SPRINGFIELD, MASS.</td>\n",
       "            <td>1901-07-05</td>\n",
       "            <td>1901</td>\n",
       "        </tr>\n",
       "    </tbody>\n",
       "</table>"
      ],
      "text/plain": [
       "[('French Fries', 'Hotel Worthy', 'DINNER', 'SPRINGFIELD, MASS.', '1901-07-05', '1901')]"
      ]
     },
     "execution_count": 13,
     "metadata": {},
     "output_type": "execute_result"
    }
   ],
   "source": [
    "%%sql\n",
    "\n",
    "select dish.name, menu.sponsor, menu.event, menu.place, menu.date, dish.first_appeared\n",
    "from menu inner join menupage on menu.id = menupage.menu_id\n",
    "inner join menuitem on menupage.id = menuitem.menu_page_id\n",
    "inner join dish on menuitem.dish_id = dish.id\n",
    "where dish.name = 'French Fries'\n",
    "and menu.date is not ''\n",
    "order by menu.date\n",
    "limit 1"
   ]
  },
  {
   "cell_type": "markdown",
   "metadata": {},
   "source": [
    "# Let's see when a dish was last appered on which menu, sponser, event, place"
   ]
  },
  {
   "cell_type": "code",
   "execution_count": 14,
   "metadata": {},
   "outputs": [
    {
     "name": "stdout",
     "output_type": "stream",
     "text": [
      " * sqlite:///menus.db\n",
      "Done.\n"
     ]
    },
    {
     "data": {
      "text/html": [
       "<table>\n",
       "    <thead>\n",
       "        <tr>\n",
       "            <th>name</th>\n",
       "            <th>sponsor</th>\n",
       "            <th>event</th>\n",
       "            <th>place</th>\n",
       "            <th>date</th>\n",
       "            <th>last_appeared</th>\n",
       "        </tr>\n",
       "    </thead>\n",
       "    <tbody>\n",
       "        <tr>\n",
       "            <td>Fried Eggs</td>\n",
       "            <td>Holland America Cruises</td>\n",
       "            <td></td>\n",
       "            <td></td>\n",
       "            <td>1987-01-01</td>\n",
       "            <td>1987</td>\n",
       "        </tr>\n",
       "    </tbody>\n",
       "</table>"
      ],
      "text/plain": [
       "[('Fried Eggs', 'Holland America Cruises', '', '', '1987-01-01', '1987')]"
      ]
     },
     "execution_count": 14,
     "metadata": {},
     "output_type": "execute_result"
    }
   ],
   "source": [
    "%%sql\n",
    "\n",
    "select dish.name, menu.sponsor, menu.event, menu.place, menu.date, dish.last_appeared\n",
    "from menu inner join menupage on menu.id = menupage.menu_id\n",
    "inner join menuitem on menupage.id = menuitem.menu_page_id\n",
    "inner join dish on menuitem.dish_id = dish.id\n",
    "where dish.name = 'Fried Eggs'\n",
    "and menu.date is not ''\n",
    "order by menu.date desc\n",
    "limit 1"
   ]
  },
  {
   "cell_type": "markdown",
   "metadata": {},
   "source": [
    "### Each dish should appear on a Menu"
   ]
  },
  {
   "cell_type": "code",
   "execution_count": 135,
   "metadata": {},
   "outputs": [
    {
     "name": "stdout",
     "output_type": "stream",
     "text": [
      " * sqlite:///menus.db\n",
      "Done.\n"
     ]
    },
    {
     "data": {
      "text/html": [
       "<table>\n",
       "    <thead>\n",
       "        <tr>\n",
       "            <th>count(distinct dish.id)</th>\n",
       "        </tr>\n",
       "    </thead>\n",
       "    <tbody>\n",
       "        <tr>\n",
       "            <td>413380</td>\n",
       "        </tr>\n",
       "    </tbody>\n",
       "</table>"
      ],
      "text/plain": [
       "[(413380,)]"
      ]
     },
     "execution_count": 135,
     "metadata": {},
     "output_type": "execute_result"
    }
   ],
   "source": [
    "%%sql\n",
    "\n",
    "\n",
    "select count(distinct dish.id)\n",
    "from menu inner join menupage on menu.id = menupage.menu_id\n",
    "inner join menuitem on menupage.id = menuitem.menu_page_id\n",
    "inner join dish on menuitem.dish_id = dish.id"
   ]
  },
  {
   "cell_type": "code",
   "execution_count": 138,
   "metadata": {},
   "outputs": [
    {
     "name": "stdout",
     "output_type": "stream",
     "text": [
      " * sqlite:///menus.db\n",
      "Done.\n"
     ]
    },
    {
     "data": {
      "text/html": [
       "<table>\n",
       "    <thead>\n",
       "        <tr>\n",
       "            <th>count(dish.id)</th>\n",
       "        </tr>\n",
       "    </thead>\n",
       "    <tbody>\n",
       "        <tr>\n",
       "            <td>428132</td>\n",
       "        </tr>\n",
       "    </tbody>\n",
       "</table>"
      ],
      "text/plain": [
       "[(428132,)]"
      ]
     },
     "execution_count": 138,
     "metadata": {},
     "output_type": "execute_result"
    }
   ],
   "source": [
    "%%sql\n",
    "\n",
    "select count(dish.id)\n",
    "from dish"
   ]
  },
  {
   "cell_type": "code",
   "execution_count": null,
   "metadata": {},
   "outputs": [],
   "source": []
  }
 ],
 "metadata": {
  "kernelspec": {
   "display_name": "Python 3",
   "language": "python",
   "name": "python3"
  },
  "language_info": {
   "codemirror_mode": {
    "name": "ipython",
    "version": 3
   },
   "file_extension": ".py",
   "mimetype": "text/x-python",
   "name": "python",
   "nbconvert_exporter": "python",
   "pygments_lexer": "ipython3",
   "version": "3.8.5"
  }
 },
 "nbformat": 4,
 "nbformat_minor": 4
}
