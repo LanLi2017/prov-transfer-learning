{
 "cells": [
  {
   "cell_type": "markdown",
   "metadata": {},
   "source": [
    "# Data Profiling with Python"
   ]
  },
  {
   "cell_type": "code",
   "execution_count": 1,
   "metadata": {
    "pycharm": {
     "name": "#%%\n"
    }
   },
   "outputs": [],
   "source": [
    "# @BEGIN CS513-Team15-FinalProject\n",
    "# @PARAM db_pth\n",
    "# @PARAM fmodel\n",
    "# @IN a\n",
    "# @IN b\n",
    "# @OUT result\n",
    "\n",
    "import pandas as pd\n",
    "import numpy as np\n",
    "import matplotlib.pyplot as plt"
   ]
  },
  {
   "cell_type": "markdown",
   "metadata": {},
   "source": [
    "# Check null columns"
   ]
  },
  {
   "cell_type": "code",
   "execution_count": 2,
   "metadata": {
    "scrolled": true
   },
   "outputs": [
    {
     "name": "stdout",
     "output_type": "stream",
     "text": [
      "###############################\n",
      "Menu.csv\n",
      "id                            \t0\t0.00%\t(0.0000000000%)\n",
      "name                          \t14348\t4.09%\t(4.0884481678%)\n",
      "sponsor                       \t1561\t0.44%\t(0.4448053798%)\n",
      "event                         \t9393\t2.68%\t(2.6765259019%)\n",
      "venue                         \t9428\t2.69%\t(2.6864991167%)\n",
      "place                         \t9424\t2.69%\t(2.6853593207%)\n",
      "physical_description          \t2782\t0.79%\t(0.7927281017%)\n",
      "occasion                      \t13756\t3.92%\t(3.9197583633%)\n",
      "notes                         \t6932\t1.98%\t(1.9752664273%)\n",
      "call_number                   \t1562\t0.45%\t(0.4450903288%)\n",
      "keywords                      \t17547\t5.00%\t(5.0000000000%)\n",
      "language                      \t17547\t5.00%\t(5.0000000000%)\n",
      "date                          \t586\t0.17%\t(0.1669801106%)\n",
      "location                      \t0\t0.00%\t(0.0000000000%)\n",
      "location_type                 \t17547\t5.00%\t(5.0000000000%)\n",
      "currency                      \t11091\t3.16%\t(3.1603692939%)\n",
      "currency_symbol               \t11091\t3.16%\t(3.1603692939%)\n",
      "status                        \t0\t0.00%\t(0.0000000000%)\n",
      "page_count                    \t0\t0.00%\t(0.0000000000%)\n",
      "dish_count                    \t0\t0.00%\t(0.0000000000%)\n",
      "###############################\n",
      "MenuPage.csv\n",
      "id                            \t0\t0.00%\t(0.0000000000%)\n",
      "menu_id                       \t0\t0.00%\t(0.0000000000%)\n",
      "page_number                   \t1202\t0.26%\t(0.2565311946%)\n",
      "image_id                      \t0\t0.00%\t(0.0000000000%)\n",
      "full_height                   \t329\t0.07%\t(0.0702152771%)\n",
      "full_width                    \t329\t0.07%\t(0.0702152771%)\n",
      "uuid                          \t0\t0.00%\t(0.0000000000%)\n",
      "###############################\n",
      "MenuItem.csv\n",
      "id                            \t0\t0.00%\t(0.0000000000%)\n",
      "menu_page_id                  \t0\t0.00%\t(0.0000000000%)\n",
      "price                         \t446259\t3.71%\t(3.7147972311%)\n",
      "high_price                    \t1242800\t10.35%\t(10.3454496129%)\n",
      "dish_id                       \t241\t0.00%\t(0.0020061582%)\n",
      "created_at                    \t0\t0.00%\t(0.0000000000%)\n",
      "updated_at                    \t0\t0.00%\t(0.0000000000%)\n",
      "xpos                          \t0\t0.00%\t(0.0000000000%)\n",
      "ypos                          \t0\t0.00%\t(0.0000000000%)\n",
      "###############################\n",
      "Dish.csv\n",
      "id                            \t0\t0.00%\t(0.0000000000%)\n",
      "name                          \t0\t0.00%\t(0.0000000000%)\n",
      "description                   \t428082\t11.11%\t(11.1111111111%)\n",
      "menus_appeared                \t0\t0.00%\t(0.0000000000%)\n",
      "times_appeared                \t0\t0.00%\t(0.0000000000%)\n",
      "first_appeared                \t0\t0.00%\t(0.0000000000%)\n",
      "last_appeared                 \t0\t0.00%\t(0.0000000000%)\n",
      "lowest_price                  \t29101\t0.76%\t(0.7553329606%)\n",
      "highest_price                 \t29101\t0.76%\t(0.7553329606%)\n"
     ]
    }
   ],
   "source": [
    "# @BEGIN simple_process\n",
    "# @IN a\n",
    "# @IN b\n",
    "# @OUT result\n",
    "def check_null_columns(file_name):\n",
    "    df = pd.read_csv(file_name)\n",
    "#     columns_with_all_null = df.columns[df.isnull().all()]\n",
    "    print('###############################')\n",
    "    print('{}'.format(file_name))\n",
    "#     print('Drop columns where all values are NA {}'.format(columns_with_all_null.values))\n",
    "#     df.drop(columns_with_all_null, axis='columns', inplace=True)\n",
    "\n",
    "    ### Identify columns with too many missing values\n",
    "    for col in df.columns:\n",
    "        count_nan = df[col].isnull().sum()\n",
    "        percentage_missing = count_nan / df.size\n",
    "        print('{:30s}\\t{}\\t{:.2f}%\\t({:.10f}%)'.format(col, count_nan, percentage_missing*100, percentage_missing*100))\n",
    "    return df\n",
    "\n",
    "menu = check_null_columns('Menu.csv')\n",
    "menu_page = check_null_columns('MenuPage.csv')\n",
    "menu_item = check_null_columns('MenuItem.csv')\n",
    "dish = check_null_columns('Dish.csv')\n",
    "\n",
    "# @END simple_process"
   ]
  },
  {
   "cell_type": "markdown",
   "metadata": {
    "pycharm": {
     "name": "#%%\n"
    }
   },
   "source": [
    "# Remove un-necessary columns\n",
    "We will remove un-ncessary columns so that we can do our operations more efficiently. One caveate is that dish_id has 0.00% null values, but actually it has null values (0.0020061582%). This rows may violate constraints or really do not have dish items. We are not sure about this, so we will remove these rows."
   ]
  },
  {
   "cell_type": "code",
   "execution_count": 3,
   "metadata": {
    "pycharm": {
     "name": "#%%\n"
    }
   },
   "outputs": [
    {
     "name": "stdout",
     "output_type": "stream",
     "text": [
      "MenuItem na value delete: 241\n"
     ]
    }
   ],
   "source": [
    "menu = menu.drop(['keywords', 'language', 'location_type', 'name', 'sponsor', 'event', 'venue',\n",
    "                  'physical_description', 'occasion', 'notes', 'call_number', 'page_count', 'dish_count'], axis='columns')\n",
    "menu_page = menu_page.drop(['page_number', 'image_id', 'full_height', 'full_width', 'uuid'], axis='columns')\n",
    "menu_item = menu_item.drop(['high_price', 'created_at', 'updated_at', 'xpos', 'ypos'], axis='columns')\n",
    "dish = dish.drop(['description', 'menus_appeared', 'times_appeared', 'first_appeared', 'last_appeared', 'lowest_price', 'highest_price'], axis='columns')\n",
    "\n",
    "before = menu_item.shape[0]\n",
    "menu_item.dropna(subset=['dish_id'], inplace=True)\n",
    "after = menu_item.shape[0]\n",
    "print('MenuItem na value delete: {}'.format(before-after))\n",
    "menu_item[\"dish_id\"] = menu_item[\"dish_id\"].astype(np.int64)\n",
    "\n",
    "menu.to_csv('./NYPL_only_necessary_columns/Menu.csv', index=False)\n",
    "menu_page.to_csv('./NYPL_only_necessary_columns/MenuPage.csv', index=False)\n",
    "menu_item.to_csv('./NYPL_only_necessary_columns/MenuItem.csv', index=False)\n",
    "dish.to_csv('./NYPL_only_necessary_columns/Dish.csv', index=False)"
   ]
  },
  {
   "cell_type": "code",
   "execution_count": 4,
   "metadata": {},
   "outputs": [
    {
     "name": "stdout",
     "output_type": "stream",
     "text": [
      "  adding: NYPL_only_necessary_columns/Dish.csv (deflated 63%)\n",
      "  adding: NYPL_only_necessary_columns/Menu.csv (deflated 78%)\n",
      "  adding: NYPL_only_necessary_columns/MenuItem.csv (deflated 71%)\n",
      "  adding: NYPL_only_necessary_columns/MenuPage.csv (deflated 79%)\n",
      "  adding: NYPL_only_necessary_columns/test.csv (deflated 1%)\n"
     ]
    }
   ],
   "source": [
    "!rm -f NYPL_only_necessary_columns.zip\n",
    "!zip NYPL_only_necessary_columns.zip ./NYPL_only_necessary_columns/*.csv"
   ]
  },
  {
   "cell_type": "markdown",
   "metadata": {
    "pycharm": {
     "name": "#%% md\n"
    }
   },
   "source": [
    "# Make After_OpenRefine.zip in OpenRefine\n",
    "Now we are ready to do OpenRefine operations with NYPL_only_necessary_columns.zip. Once OpenRefine job finished, export refined data to After_OpenRefine.zip file again in order to do more operations in Python."
   ]
  },
  {
   "cell_type": "markdown",
   "metadata": {},
   "source": [
    "# Read Cleaned Dataset from Ater_OpenRefine.zip"
   ]
  },
  {
   "cell_type": "code",
   "execution_count": null,
   "metadata": {},
   "outputs": [],
   "source": [
    "menu = pd.read_csv('After_OpenRefine/Menu.csv')\n",
    "menu_page = pd.read_csv('After_OpenRefine/MenuPage.csv')\n",
    "menu_item = pd.read_csv('After_OpenRefine/MenuItem.csv')\n",
    "dish = pd.read_csv('After_OpenRefine/Dish.csv')"
   ]
  },
  {
   "cell_type": "markdown",
   "metadata": {},
   "source": [
    "# Cicken detection"
   ]
  },
  {
   "cell_type": "code",
   "execution_count": 10,
   "metadata": {},
   "outputs": [
    {
     "data": {
      "text/plain": [
       "1865                                          a la poulette\n",
       "1969                                 Scallops a la poulette\n",
       "1970               Scallops a la poulette in a chafing dish\n",
       "2611                             Calf's head, a la poulette\n",
       "2621                            Calf's brains a la poulette\n",
       "                                ...                        \n",
       "414600                           Ailes de poulet à la Patti\n",
       "419786                      little neck clams à la poulette\n",
       "420129               Chaud-froid de poulet à La Norvégienne\n",
       "420191    poulet a la creole  - saute puis recouvert d'u...\n",
       "420198                                      poulet sandwich\n",
       "Name: name, Length: 280, dtype: object"
      ]
     },
     "execution_count": 10,
     "metadata": {},
     "output_type": "execute_result"
    }
   ],
   "source": [
    "# chicken finding test\n",
    "# Chicken: Chick, (In Franch) Poulette,  Coquille, Poulet, Poussin, Poularde, Coq, Geline, Supreme, Aileron, Cuisse\n",
    "poulet = dish.name.str.contains('poulet')\n",
    "dish.name[poulet]"
   ]
  },
  {
   "cell_type": "code",
   "execution_count": 11,
   "metadata": {},
   "outputs": [
    {
     "name": "stdout",
     "output_type": "stream",
     "text": [
      "ayam       14\n",
      "pollo       3\n",
      "manok       3\n",
      "galinha     2\n",
      "taouk       2\n",
      "dtype: int64\n"
     ]
    }
   ],
   "source": [
    "# List of chicken dishes: https://en.wikipedia.org/wiki/List_of_chicken_dishes\n",
    "chicken_dishes = pd.read_csv(\"chicken_dishes.txt\")\n",
    "chicken_idx = chicken_dishes[\"name\"].str.lower().str.contains(\"chicken\")\n",
    "chicken_variants = chicken_dishes[~chicken_idx]\n",
    "chicken_var_words = chicken_variants.name.str.lower().str.split(expand=True).stack().value_counts()\n",
    "chicken_words = chicken_var_words[chicken_var_words > 1]\n",
    "chicken_words = chicken_words.drop(['à', 'au', 'wing',\n",
    "                                    'shish',    # skewer (a long piece of wood or metal used for holding pieces of food)\n",
    "                                    'biryani',  # Indian fried rice\n",
    "                                    'adobo',    # Philippines's cooking technique, not a dish name\n",
    "                                    'nasi',     # Indonesian rice\n",
    "                                    'kai',      # Thailand soup\n",
    "                                    ], axis=0)  # delete the rows with some labels\n",
    "print(chicken_words)\n",
    "chicken_words = chicken_words.append(pd.Series({'chicken': 100, 'coq':1, 'poulet':1, 'poussin': 1, 'poulette': 1, 'karaage': 1, 'yassa': 1}))\n",
    "chicken_words = chicken_words.sort_values(ascending=False)\n",
    "#print(chicken_words)\n",
    "# print(chicken_words.index.values)\n"
   ]
  },
  {
   "cell_type": "code",
   "execution_count": 12,
   "metadata": {
    "pycharm": {
     "name": "#%%\n"
    }
   },
   "outputs": [
    {
     "data": {
      "text/plain": [
       "count                                   3715\n",
       "unique                                  3715\n",
       "top       Baked chicken pie, individual dish\n",
       "freq                                       1\n",
       "Name: name, dtype: object"
      ]
     },
     "execution_count": 12,
     "metadata": {},
     "output_type": "execute_result"
    }
   ],
   "source": [
    "# https://stackoverflow.com/questions/53350793/how-to-check-if-pandas-column-has-value-from-list-of-string\n",
    "chicken_checks = dish.name.apply(lambda x: any([k in str(x) for k in chicken_words.index.values]))\n",
    "chicken_rows = dish.name[chicken_checks == True]\n",
    "chicken_rows.describe()"
   ]
  },
  {
   "cell_type": "code",
   "execution_count": 13,
   "metadata": {},
   "outputs": [
    {
     "data": {
      "text/plain": [
       "679                              1/4 chicken\n",
       "891                          Grilled chicken\n",
       "1271    Broiled half spring chicken on toast\n",
       "1301             Broiled spring chicken half\n",
       "1303                           Roast chicken\n",
       "Name: name, dtype: object"
      ]
     },
     "execution_count": 13,
     "metadata": {},
     "output_type": "execute_result"
    }
   ],
   "source": [
    "chicken_rows.head()"
   ]
  },
  {
   "cell_type": "code",
   "execution_count": 14,
   "metadata": {},
   "outputs": [],
   "source": [
    "dish_after_openrefine = pd.read_csv('./After_OpenRefine/Dish.csv')\n",
    "\n",
    "dish_after_openrefine[\"is_chicken\"] = chicken_checks\n",
    "dish_after_openrefine[\"is_chicken\"] = dish_after_openrefine[\"is_chicken\"].replace({True: 'Y', False: 'N'})\n",
    "\n",
    "dish_after_openrefine.to_csv('./afterAddingCurrAndNyc/Dish.csv', index=False)"
   ]
  },
  {
   "cell_type": "markdown",
   "metadata": {},
   "source": [
    "# NYC detection"
   ]
  },
  {
   "cell_type": "code",
   "execution_count": 15,
   "metadata": {},
   "outputs": [],
   "source": [
    "# load from After_OpenRefine.zip\n",
    "menu_after_openrefine = pd.read_csv('./After_OpenRefine/Menu.csv')\n"
   ]
  },
  {
   "cell_type": "code",
   "execution_count": 16,
   "metadata": {},
   "outputs": [
    {
     "name": "stderr",
     "output_type": "stream",
     "text": [
      "/home/suser/anaconda3/lib/python3.8/site-packages/pandas/core/strings.py:2001: UserWarning: This pattern has match groups. To actually get the groups, use str.extract.\n",
      "  return func(self, *args, **kwargs)\n"
     ]
    },
    {
     "data": {
      "text/plain": [
       "0     N\n",
       "1     N\n",
       "2     N\n",
       "3     N\n",
       "4     N\n",
       "5     N\n",
       "6     Y\n",
       "7     N\n",
       "8     N\n",
       "9     N\n",
       "10    Y\n",
       "11    Y\n",
       "12    Y\n",
       "13    N\n",
       "14    N\n",
       "15    N\n",
       "16    N\n",
       "17    N\n",
       "18    N\n",
       "19    N\n",
       "Name: is_in_nyc, dtype: object"
      ]
     },
     "execution_count": 16,
     "metadata": {},
     "output_type": "execute_result"
    }
   ],
   "source": [
    "menu_after_openrefine[\"is_in_nyc\"] = menu_after_openrefine['place'].str.lower().str.contains(r'\\b(ny|nyc|new york)\\b',regex=True) \\\n",
    "| menu_after_openrefine['location'].str.lower().str.contains(r'\\b(ny|nyc|new york)\\b',regex=True)\n",
    "menu_after_openrefine[\"is_in_nyc\"] = menu_after_openrefine[\"is_in_nyc\"].replace({True: 'Y', False: 'N'})\n",
    "menu_after_openrefine[\"is_in_nyc\"].head(n=20)"
   ]
  },
  {
   "cell_type": "markdown",
   "metadata": {
    "pycharm": {
     "name": "#%% md\n"
    }
   },
   "source": [
    "# Convert currency rates"
   ]
  },
  {
   "cell_type": "code",
   "execution_count": 17,
   "metadata": {
    "pycharm": {
     "name": "#%%\n"
    }
   },
   "outputs": [],
   "source": [
    "#print(menu_after_openrefine.currency.value_counts())\n",
    "\n",
    "currency_map = {\n",
    "    'dollars': 1,\n",
    "    'deutsche marks': 0.63,\n",
    "    'francs': 0.18,\n",
    "    'canadian dollars':0.793,\n",
    "    'swiss francs':1.087,\n",
    "    'shillings':0.085,\n",
    "    'swedish kronor (sek/kr)':0.115,\n",
    "    'italian lire':0.0006,\n",
    "    'cents':0.01,\n",
    "    'uk pounds':1.377,\n",
    "    'belgian francs':0.029,\n",
    "    'mexican pesos':0.05,\n",
    "    'dutch guilders':0.535,\n",
    "    'austrian schillings':0.085,\n",
    "    'danish kroner':0.158,\n",
    "    'yen':0.009,\n",
    "    'pesetas':0.007,\n",
    "    'euros':1.181,\n",
    "    'escudos':0.005,\n",
    "    'austro-hungarian kronen':0.021,\n",
    "    'hungarian forint':0.003,\n",
    "    'drachmas':0.003,\n",
    "    'israeli lirot (1948-1980)':0.304,\n",
    "    'norwegian kroner':0.114,\n",
    "    'icelandic krónur':0.008,\n",
    "    'quetzales':0.129,\n",
    "    'argentine peso':0.01,\n",
    "    'finnish markka':0.198,\n",
    "    'lats':1.68,\n",
    "    'sol':0.25,\n",
    "    'cuban pesos':0.041,\n",
    "    'złoty':0.257,\n",
    "    'brazilian cruzeiros':0.00007131,\n",
    "    'uruguayan pesos':0.022,\n",
    "    'qatari riyal':0.274,\n",
    "    'australian dollars':0.74,\n",
    "    'new taiwan dollar':0.036,\n",
    "    'bermudian dollars':1,\n",
    "    'moroccan dirham':0.111,\n",
    "    'monégasque francs':0.18,\n",
    "    'pence':0.01387,\n",
    "    'straits dollar (1904-1939)':0.256,\n",
    "    np.nan: 1\n",
    "}\n",
    "\n",
    "menu_after_openrefine[\"to_dollar_rate\"] = menu_after_openrefine.currency.apply(lambda x: currency_map[x])\n",
    "menu_after_openrefine.to_csv('./afterAddingCurrAndNyc/Menu.csv', index=False)"
   ]
  },
  {
   "cell_type": "code",
   "execution_count": 18,
   "metadata": {},
   "outputs": [],
   "source": [
    "# @END CS513-Team15-FinalProject"
   ]
  },
  {
   "cell_type": "code",
   "execution_count": null,
   "metadata": {
    "pycharm": {
     "name": "#%%"
    }
   },
   "outputs": [],
   "source": []
  }
 ],
 "metadata": {
  "kernelspec": {
   "display_name": "Python 3 (ipykernel)",
   "language": "python",
   "name": "python3"
  },
  "language_info": {
   "codemirror_mode": {
    "name": "ipython",
    "version": 3
   },
   "file_extension": ".py",
   "mimetype": "text/x-python",
   "name": "python",
   "nbconvert_exporter": "python",
   "pygments_lexer": "ipython3",
   "version": "3.8.10"
  }
 },
 "nbformat": 4,
 "nbformat_minor": 4
}
